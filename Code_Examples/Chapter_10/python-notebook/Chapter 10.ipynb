{
 "cells": [
  {
   "cell_type": "markdown",
   "metadata": {},
   "source": [
    "Ch 10. - OpenACC Image Pipeline\n",
    "===============================\n",
    "\n",
    "This example demonstrates a pipelined approach to optimizing an OpenACC program\n",
    "to overlap computation and data transfers. For more details, please see Chapter\n",
    "10 of OpenACC for Programmers: Concepts and Strategies, First Edition.\n",
    "\n",
    "Required Software\n",
    "-----------------\n",
    "1. OpenACC-aware compiler. This has been tested with PGI 16.10 and newer.\n",
    "2. OpenCV\n",
    "\n",
    "Build Instructions\n",
    "------------------\n",
    "A Makefile has been provided to build the example. It may be necessary to\n",
    "modify the Makefile to point to your installation of OpenCV or your OpenACC\n",
    "Compiler.\n",
    "\n",
    "Running\n",
    "-------\n",
    "The resulting executable, filter.x, expects 2 commandline parameters. The first\n",
    "parameter is the input image and the second is the name of the output image.\n",
    "You can use any image type supported by OpenCV.\n",
    "\n",
    "    $ ./filter.x input.jpg output.jpg\n",
    "\n",
    "License\n",
    "-------\n",
    "Copyright (c) 2016, NVIDIA CORPORATION. All rights reserved.\n",
    "\n",
    "Redistribution and use in source and binary forms, with or without\n",
    "modification, are permitted provided that the following conditions\n",
    "are met:\n",
    " * Redistributions of source code must retain the above copyright\n",
    "   notice, this list of conditions and the following disclaimer.\n",
    " * Redistributions in binary form must reproduce the above copyright\n",
    "   notice, this list of conditions and the following disclaimer in the\n",
    "   documentation and/or other materials provided with the distribution.\n",
    " * Neither the name of NVIDIA CORPORATION nor the names of its\n",
    "   contributors may be used to endorse or promote products derived\n",
    "   from this software without specific prior written permission.\n",
    "\n",
    "THIS SOFTWARE IS PROVIDED BY THE COPYRIGHT HOLDERS AS IS'' AND ANY\n",
    "EXPRESS OR IMPLIED WARRANTIES, INCLUDING, BUT NOT LIMITED TO, THE\n",
    "IMPLIED WARRANTIES OF MERCHANTABILITY AND FITNESS FOR A PARTICULAR\n",
    "PURPOSE ARE DISCLAIMED.  IN NO EVENT SHALL THE COPYRIGHT OWNER OR\n",
    "CONTRIBUTORS BE LIABLE FOR ANY DIRECT, INDIRECT, INCIDENTAL, SPECIAL,\n",
    "EXEMPLARY, OR CONSEQUENTIAL DAMAGES (INCLUDING, BUT NOT LIMITED TO,\n",
    "PROCUREMENT OF SUBSTITUTE GOODS OR SERVICES; LOSS OF USE, DATA, OR\n",
    "PROFITS; OR BUSINESS INTERRUPTION) HOWEVER CAUSED AND ON ANY THEORY\n",
    "OF LIABILITY, WHETHER IN CONTRACT, STRICT LIABILITY, OR TORT\n",
    "(INCLUDING NEGLIGENCE OR OTHERWISE) ARISING IN ANY WAY OUT OF THE USE\n",
    "OF THIS SOFTWARE, EVEN IF ADVISED OF THE POSSIBILITY OF SUCH DAMAGE."
   ]
  },
  {
   "cell_type": "code",
   "execution_count": 1,
   "metadata": {},
   "outputs": [
    {
     "name": "stdout",
     "output_type": "stream",
     "text": [
      "make: `filter.x' is up to date.\r\n"
     ]
    }
   ],
   "source": [
    "!make"
   ]
  },
  {
   "cell_type": "code",
   "execution_count": 2,
   "metadata": {},
   "outputs": [
    {
     "name": "stdout",
     "output_type": "stream",
     "text": [
      "input.jpg: 535 x 346, 1608 3\n",
      "Time (original): 0.035649 seconds\n",
      "Time (blocked): 0.038946 seconds\n",
      "Time (update): 0.038514 seconds\n",
      "Time (pipelined): 0.038456 seconds\n",
      "Time (multi): 0.038193 seconds\n"
     ]
    }
   ],
   "source": [
    "!./filter.x input.jpg output.jpg"
   ]
  },
  {
   "cell_type": "code",
   "execution_count": null,
   "metadata": {},
   "outputs": [],
   "source": []
  }
 ],
 "metadata": {
  "kernelspec": {
   "display_name": "Python 3",
   "language": "python",
   "name": "python3"
  },
  "language_info": {
   "codemirror_mode": {
    "name": "ipython",
    "version": 3
   },
   "file_extension": ".py",
   "mimetype": "text/x-python",
   "name": "python",
   "nbconvert_exporter": "python",
   "pygments_lexer": "ipython3",
   "version": "3.4.3"
  }
 },
 "nbformat": 4,
 "nbformat_minor": 2
}
