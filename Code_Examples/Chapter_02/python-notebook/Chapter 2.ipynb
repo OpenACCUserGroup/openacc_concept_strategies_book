{
 "cells": [
  {
   "cell_type": "markdown",
   "metadata": {},
   "source": [
    "# Mandelbrot\n",
    "\n",
    "This directory contains an example program and implements the calculation of the area of a [Mandelbrot set](https://en.wikipedia.org/wiki/Mandelbrot_set). This calculation was used because it involves performing a large number of independent calculations to produce the overall area. These can be trivially parallelised using OpenMP or OpenACC, and therefore it is an easy example to provide in multiple formats and langauges.\n",
    "\n",
    "The example has been implemented in both C and Fortran, with serial, OpenMP, and OpenACC implementations for both languages.  Each different has a corresponding makefile that can be used to compile an executable for that version. To use the makefile simple use the `make` command with the `-f` flag to specify the makefile you want to use, i.e.: "
   ]
  },
  {
   "cell_type": "code",
   "execution_count": 4,
   "metadata": {},
   "outputs": [
    {
     "name": "stdout",
     "output_type": "stream",
     "text": [
      "make: `area.ser' is up to date.\r\n"
     ]
    }
   ],
   "source": [
    "!make -f Makefile.serial"
   ]
  },
  {
   "cell_type": "markdown",
   "metadata": {},
   "source": [
    "Makefiles ending with `.serial` will compile the serial version of the code.  Makefiles ending with `.omp` will compile the OpenMP version of the code. Makefiles ending with `.acc` will compile the OpenACC version of the code.\n",
    "\n",
    "The makefiles are configured to use the PGI compilers, but also include the relevant flags for the GNU compilers.  To use the GNU compilers instead simply uncomment the 'CC' or 'FC' line that has been commented out in the makefile you are using, i.e. the following enables the GNU C compiler:\n",
    "\n",
    "```\n",
    "CC= gcc -O3 -fopenmp\n",
    "#CC=     pgcc -O3 -acc -ta=nvidia -Minfo=accel\n",
    "```"
   ]
  }
 ],
 "metadata": {
  "kernelspec": {
   "display_name": "Python 3",
   "language": "python",
   "name": "python3"
  },
  "language_info": {
   "codemirror_mode": {
    "name": "ipython",
    "version": 3
   },
   "file_extension": ".py",
   "mimetype": "text/x-python",
   "name": "python",
   "nbconvert_exporter": "python",
   "pygments_lexer": "ipython3",
   "version": "3.4.3"
  }
 },
 "nbformat": 4,
 "nbformat_minor": 2
}
