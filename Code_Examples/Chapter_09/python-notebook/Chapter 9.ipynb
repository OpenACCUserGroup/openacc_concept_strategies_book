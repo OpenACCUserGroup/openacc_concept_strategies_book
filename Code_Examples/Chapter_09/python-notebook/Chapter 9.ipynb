{
 "cells": [
  {
   "cell_type": "markdown",
   "metadata": {},
   "source": [
    "`openacc_interop` is an example program to demonstrate OpenACC interoperability\n",
    "features. The application reads a grayscale image in pgm format, applies an\n",
    "edge detector (combination of gaussian blur and sharpening filter) and writes\n",
    "the output as grayscale image in pgm format. The filters are applied in\n",
    "frequencies space and the necessary DFTs are carried out with using either a\n",
    "FFT library with a FFTW compatible interface, e.g. Intel MKL, in case a CPU is\n",
    "used for the compute or cuFFT in case a NVIDIA GPU is used."
   ]
  },
  {
   "cell_type": "code",
   "execution_count": 3,
   "metadata": {},
   "outputs": [
    {
     "name": "stdout",
     "output_type": "stream",
     "text": [
      "make: Nothing to be done for `all'.\r\n"
     ]
    }
   ],
   "source": [
    "!make"
   ]
  },
  {
   "cell_type": "markdown",
   "metadata": {},
   "source": [
    "\n",
    "### Usage\n",
    "```\n",
    "./openacc_interop input.pgm output.pgm \n",
    "```\n",
    "E.g. using the example image from the subfolder images:"
   ]
  },
  {
   "cell_type": "code",
   "execution_count": 5,
   "metadata": {},
   "outputs": [
    {
     "name": "stdout",
     "output_type": "stream",
     "text": [
      "Wrote output image images/output.pgm of size 2400 x 1600\r\n"
     ]
    }
   ],
   "source": [
    "!./openacc_interop images/617019_NVIDIA_HQ_bldg.pgm images/output.pgm"
   ]
  },
  {
   "cell_type": "code",
   "execution_count": null,
   "metadata": {},
   "outputs": [],
   "source": []
  }
 ],
 "metadata": {
  "kernelspec": {
   "display_name": "Python 3",
   "language": "python",
   "name": "python3"
  },
  "language_info": {
   "codemirror_mode": {
    "name": "ipython",
    "version": 3
   },
   "file_extension": ".py",
   "mimetype": "text/x-python",
   "name": "python",
   "nbconvert_exporter": "python",
   "pygments_lexer": "ipython3",
   "version": "3.4.3"
  }
 },
 "nbformat": 4,
 "nbformat_minor": 2
}
