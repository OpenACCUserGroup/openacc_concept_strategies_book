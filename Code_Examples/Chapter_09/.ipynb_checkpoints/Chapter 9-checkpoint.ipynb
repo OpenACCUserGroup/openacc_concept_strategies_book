{
 "cells": [
  {
   "cell_type": "markdown",
   "metadata": {},
   "source": [
    "`openacc_interop` is an example program to demonstrate OpenACC interoperability\n",
    "features. The application reads a grayscale image in pgm format, applies an\n",
    "edge detector (combination of gaussian blur and sharpening filter) and writes\n",
    "the output as grayscale image in pgm format. The filters are applied in\n",
    "frequencies space and the necessary DFTs are carried out with using either a\n",
    "FFT library with a FFTW compatible interface, e.g. Intel MKL, in case a CPU is\n",
    "used for the compute or cuFFT in case a NVIDIA GPU is used."
   ]
  },
  {
   "cell_type": "markdown",
   "metadata": {},
   "source": [
    "### Requirements\n",
    "* GNU make\n",
    "* C compiler for the serial CPU version or OpenACC capable C compiler for a\n",
    "  parallel version. The provided Makefile is written to support GCC and PGI.\n",
    "* For the CPU versions: FFT library with a FFTW compatible Interface. The\n",
    "  provided Makefile is written to use Intel MKL\n",
    "* For the NVIDIA GPU version: cuFFT \n",
    "\n",
    "### Compiling\n",
    "The makefile has the following targets:\n",
    "* openacc_interop(default): builds the executable with the configuration\n",
    "                            specified via environment (COMPILER)\n",
    "* clean:                    deletes the executable, object files and the output\n",
    "                            image produced by the run target\n",
    "* run:                      runs the executable on the provided example image\n",
    "* profile:                  profile the executable with nvprof using the\n",
    "                            provided example image as input\n",
    "\n",
    "With the environment variable COMPILER three different build configurations can\n",
    "be selected:\n",
    "\n",
    "* COMPILER = GCC:           A serial CPU version using GCC and the FFTW\n",
    "                            compatible interface of Intel MKL\n",
    "* COMPILER = PGI-tesla:     A parallel GPU version using the PGI compiler and\n",
    "                            cuFFT\n",
    "* COMPILER = PGI-multicore: A parallel CPU version using the PGI compiler and\n",
    "                            the FFTW compatible interface of Intel MKL\n"
   ]
  },
  {
   "cell_type": "code",
   "execution_count": 2,
   "metadata": {},
   "outputs": [
    {
     "name": "stdout",
     "output_type": "stream",
     "text": [
      "make: Nothing to be done for `all'.\r\n"
     ]
    }
   ],
   "source": [
    "!make"
   ]
  },
  {
   "cell_type": "markdown",
   "metadata": {},
   "source": [
    "\n",
    "### Usage\n",
    "```\n",
    "./openacc_interop input.pgm output.pgm \n",
    "```\n",
    "E.g. using the example image from the subfolder images:"
   ]
  },
  {
   "cell_type": "code",
   "execution_count": 3,
   "metadata": {},
   "outputs": [
    {
     "name": "stdout",
     "output_type": "stream",
     "text": [
      "call to cuModuleLoadData returned error 209: No binary for GPU\r\n",
      "\r\n"
     ]
    }
   ],
   "source": [
    "!./openacc_interop images/617019_NVIDIA_HQ_bldg.pgm 617019_NVIDIA_HQ_bldg.out.pgm"
   ]
  }
 ],
 "metadata": {
  "kernelspec": {
   "display_name": "Python 3",
   "language": "python",
   "name": "python3"
  },
  "language_info": {
   "codemirror_mode": {
    "name": "ipython",
    "version": 3
   },
   "file_extension": ".py",
   "mimetype": "text/x-python",
   "name": "python",
   "nbconvert_exporter": "python",
   "pygments_lexer": "ipython3",
   "version": "3.4.3"
  }
 },
 "nbformat": 4,
 "nbformat_minor": 2
}
